{
 "cells": [
  {
   "cell_type": "markdown",
   "metadata": {},
   "source": [
    "Chemistry: Reactions\n",
    "\n",
    "Combustion is a reaction with oxygen in which energy is transferred to the surroundings as heat and light\n",
    "For example:\n",
    "CH4 + 2O2 -> CO2 + 2H20\n",
    "\n",
    "For each of the substances involved in this reaction, we can draw them visually, and predict their size using Python.\n",
    "\n",
    "This lesson will take you through the steps of visualising the molecules in the reaction, and then balancing the equation"
   ]
  },
  {
   "cell_type": "code",
   "execution_count": 2,
   "metadata": {},
   "outputs": [],
   "source": [
    "import matplotlib.pyplot as plt\n",
    "from rdkit import Chem\n",
    "from rdkit.Chem.rdMolDescriptors import CalcExactMolWt, CalcMolFormula\n",
    "from rdkit.Chem import Draw\n",
    "from rdkit.Chem.Draw import rdMolDraw2D"
   ]
  },
  {
   "cell_type": "markdown",
   "metadata": {},
   "source": [
    "Combustion requires Oxygen (and heat) to occur. It produces CO2 and H2O.\n",
    "The equation for combustion is:\n",
    "X + O2 -> CO2 + H20"
   ]
  },
  {
   "cell_type": "markdown",
   "metadata": {},
   "source": [
    "For example:\n",
    "CH4 + 2O2 -> CO2 + 2H20\n",
    "\n",
    "First to understand what is happening we look at the structure of CH4 (Methane)"
   ]
  },
  {
   "cell_type": "code",
   "execution_count": 3,
   "metadata": {},
   "outputs": [
    {
     "name": "stdout",
     "output_type": "stream",
     "text": [
      "16.031300127999998\n",
      "CH4\n"
     ]
    },
    {
     "data": {
      "image/png": "[encoded data removed]",
      "text/plain": [
       "<PIL.PngImagePlugin.PngImageFile image mode=RGB size=300x300>"
      ]
     },
     "execution_count": 3,
     "metadata": {},
     "output_type": "execute_result"
    }
   ],
   "source": [
    "methane=Chem.MolFromSmiles('C')\n",
    "print(CalcExactMolWt(methane))\n",
    "print(CalcMolFormula(methane))\n",
    "Draw.MolToImage(methane)"
   ]
  },
  {
   "cell_type": "code",
   "execution_count": 4,
   "metadata": {},
   "outputs": [
    {
     "name": "stdout",
     "output_type": "stream",
     "text": [
      "31.98982924\n",
      "O2\n"
     ]
    },
    {
     "data": {
      "image/png": "[encoded data removed]",
      "text/plain": [
       "<PIL.PngImagePlugin.PngImageFile image mode=RGB size=300x300>"
      ]
     },
     "execution_count": 4,
     "metadata": {},
     "output_type": "execute_result"
    }
   ],
   "source": [
    "# O2 stands for Oxygen\n",
    "oxygen=Chem.MolFromSmiles('O=O')\n",
    "print(CalcExactMolWt(oxygen))\n",
    "print(CalcMolFormula(oxygen))\n",
    "Draw.MolToImage(oxygen)"
   ]
  },
  {
   "cell_type": "markdown",
   "metadata": {},
   "source": [
    "Balancing Chemical Equations with Python\n",
    "Balancing chemical equations can be tricky, but Python can help make it easier. Let's use the example of the combustion of methane (CH₄) to demonstrate this process.\n",
    "\n",
    "Combustion Reaction:\n",
    "𝑎𝐶𝐻4+ 𝑏𝑂2→ 𝑐𝐶𝑂2+ 𝑑𝐻2𝑂\n",
    "\n",
    "We need to balance the number of each type of atom on both sides of the equation.\n",
    "\n",
    "Steps to Balance the Equation:\n",
    "Write the Equations for Each Element:\n",
    "\n",
    "Carbon (C): There is 1 carbon atom in CH₄ on the left and 1 carbon atom in CO₂ on the right.\n",
    "𝑎=𝑐\n",
    "\n",
    "Hydrogen (H): There are 4 hydrogen atoms in CH₄ on the left and 2 hydrogen atoms in H₂O on the right.\n",
    "4𝑎=2𝑑\n",
    "\n",
    "Oxygen (O): There are 2 oxygen atoms in O₂ on the left, and in CO₂ and H₂O, there are 2 oxygen atoms from CO₂ and 1 oxygen atom from H₂O on the right.\n",
    "\n",
    "Solve the Equations:"
   ]
  },
  {
   "cell_type": "code",
   "execution_count": 5,
   "metadata": {},
   "outputs": [
    {
     "name": "stdout",
     "output_type": "stream",
     "text": [
      "Balanced equation: 1 CH4 + 2 O2 -> 1 CO2 + 2 H2O\n",
      "This is the same as: 1 Methane + 2 Oxygen -> 1 Carbon Dioxide + 2 Water\n"
     ]
    }
   ],
   "source": [
    "from sympy import symbols, Eq, solve\n",
    "\n",
    "# Sympy can be used to solve these linear equations, read through the code below to understand how.\n",
    "# Define symbols for coefficients\n",
    "a, b, c, d = symbols('a b c d')\n",
    "\n",
    "# Define the chemical equation: a*CH4 + b*O2 -> c*CO2 + d*H2O\n",
    "# We need to balance C, H, and O atoms\n",
    "\n",
    "# Carbon balance: 1 CH4 -> 1 CO2\n",
    "carbonEq = Eq(a, c)\n",
    "\n",
    "# Hydrogen balance: 4 H in CH4 -> 2 H2O\n",
    "hydrogenEq = Eq(4*a, 2*d) \n",
    "\n",
    "# Oxygen balance: 2 O2 -> 2 CO2 + 1 H2O\n",
    "oxygenEq = Eq(2*b, 2*c + d)\n",
    "\n",
    "# Assume one of the coefficients to be 1 to solve the system (commonly a=1)\n",
    "eq4 = Eq(a, 1)\n",
    "\n",
    "# Solve the system of equations\n",
    "solution = solve((carbonEq, hydrogenEq, oxygenEq, eq4), (a, b, c, d))\n",
    "\n",
    "# Extract the coefficients\n",
    "a_val = solution[a]\n",
    "b_val = solution[b]\n",
    "c_val = solution[c]\n",
    "d_val = solution[d]\n",
    "\n",
    "# Print the balanced equation\n",
    "print(f'Balanced equation: {a_val} CH4 + {b_val} O2 -> {c_val} CO2 + {d_val} H2O')\n",
    "print(f'This is the same as: {a_val} Methane + {b_val} Oxygen -> {c_val} Carbon Dioxide + {d_val} Water')\n"
   ]
  },
  {
   "cell_type": "markdown",
   "metadata": {},
   "source": [
    "Now it's your turn, first visualise the molecules and then balance the equations\n",
    "Do the same for equation:\n",
    "\n",
    "a*C4H10 + b*O2 -> c*... + d*..."
   ]
  },
  {
   "cell_type": "code",
   "execution_count": 9,
   "metadata": {},
   "outputs": [],
   "source": [
    "# Visualise C4H10 (Butane), it's Smiles is CCCC"
   ]
  },
  {
   "cell_type": "code",
   "execution_count": null,
   "metadata": {},
   "outputs": [],
   "source": [
    "# Solve the linear equation, by filling in the equations\n",
    "a, b, c, d = symbols('a b c d')\n",
    "\n",
    "# Define the chemical equation: a*C4H10 + b*O2 -> c*CO2 + d*H2O\n",
    "# We need to balance C, H, and O atoms\n",
    "\n",
    "# Carbon balance\n",
    "carbonEq = Eq(1, 1)\n",
    "\n",
    "# Hydrogen balance\n",
    "hydrogenEq = Eq(1, 1) \n",
    "\n",
    "# Oxygen balance\n",
    "oxygenEq = Eq(1, 1)\n",
    "\n",
    "# Assume one of the coefficients to be 1 to solve the system (commonly a=1)\n",
    "eq4 = Eq(a, 1)\n",
    "\n",
    "# Solve the system of equations\n",
    "solution = solve((carbonEq, hydrogenEq, oxygenEq, eq4), (a, b, c, d))\n",
    "\n",
    "# Extract the coefficients\n",
    "a_val = solution[a]\n",
    "b_val = solution[b]\n",
    "c_val = solution[c]\n",
    "d_val = solution[d]\n",
    "\n",
    "# Print the balanced equation\n",
    "print(f'Balanced equation: {a_val} C4H10 + {b_val} O2 -> {c_val} CO2 + {d_val} H2O')\n",
    "print(f'This is the same as: {a_val} Butane + {b_val} Oxygen -> {c_val} Carbon Dioxide + {d_val} Water')"
   ]
  },
  {
   "cell_type": "markdown",
   "metadata": {},
   "source": [
    "Extention:\n",
    "Discover the states of all the chemicals, for example what form is CH4, Solid, Liquid or Gas."
   ]
  }
 ],
 "metadata": {
  "kernelspec": {
   "display_name": "Python 3",
   "language": "python",
   "name": "python3"
  },
  "language_info": {
   "codemirror_mode": {
    "name": "ipython",
    "version": 3
   },
   "file_extension": ".py",
   "mimetype": "text/x-python",
   "name": "python",
   "nbconvert_exporter": "python",
   "pygments_lexer": "ipython3",
   "version": "3.8.3"
  }
 },
 "nbformat": 4,
 "nbformat_minor": 2
}
